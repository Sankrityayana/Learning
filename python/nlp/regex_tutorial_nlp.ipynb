{
 "cells": [
  {
   "cell_type": "markdown",
   "metadata": {},
   "source": [
    "Extracting Information from a Customer Service Chatbot using Regex"
   ]
  },
  {
   "cell_type": "code",
   "execution_count": 31,
   "metadata": {},
   "outputs": [],
   "source": [
    "#Importing Regex library[in-built in python]\n",
    "import re"
   ]
  },
  {
   "cell_type": "code",
   "execution_count": 32,
   "metadata": {},
   "outputs": [],
   "source": [
    "# Information of the customer received from customer\n",
    "chat1 = \"suraj: you ask a lot of questions 😠 1234567890, abc@xyz.com\"\n",
    "chat2 = \"suraj: here it is: (123)-567-8912, abc_82@xyz.com\"\n",
    "chat3 = \"suraj: yes, phone: 1234568970 email: abc@xyz.io\""
   ]
  },
  {
   "cell_type": "code",
   "execution_count": 33,
   "metadata": {},
   "outputs": [],
   "source": [
    "# Information about the order received from customer\n",
    "ord1 = \"suraj: Hello, I am having an issue with my order # 412889912\"\n",
    "ord2 = \"suraj: I have a problem with my order number 412779912\"\n",
    "ord3 = \"suraj: My order 4126689912 is having an issue, I was charged 300$ when online it says 280$\""
   ]
  },
  {
   "cell_type": "code",
   "execution_count": 34,
   "metadata": {},
   "outputs": [],
   "source": [
    "# Ignore Warnings\n",
    "import warnings\n",
    "warnings.filterwarnings(\"ignore\")"
   ]
  },
  {
   "cell_type": "code",
   "execution_count": 35,
   "metadata": {},
   "outputs": [
    {
     "data": {
      "text/plain": [
       "['1234567890']"
      ]
     },
     "execution_count": 35,
     "metadata": {},
     "output_type": "execute_result"
    }
   ],
   "source": [
    "# Finding phone number from the chats using regex\n",
    "pattern1 = '\\d{10}|\\(\\d{3}\\)-\\d{3}-\\d{4}'\n",
    "matches1 = re.findall(pattern1, chat1)\n",
    "matches1"
   ]
  },
  {
   "cell_type": "code",
   "execution_count": 36,
   "metadata": {},
   "outputs": [
    {
     "data": {
      "text/plain": [
       "['abc@xyz.io']"
      ]
     },
     "execution_count": 36,
     "metadata": {},
     "output_type": "execute_result"
    }
   ],
   "source": [
    "# Finding email from chats using regex\n",
    "pattern2 = \"[a-zA-z0-9_]*@[a-z0-9A-z]*\\.[a-zA-Z]*\"\n",
    "matches2 = re.findall(pattern2, chat3)\n",
    "matches2"
   ]
  },
  {
   "cell_type": "code",
   "execution_count": 37,
   "metadata": {},
   "outputs": [
    {
     "data": {
      "text/plain": [
       "['412779912']"
      ]
     },
     "execution_count": 37,
     "metadata": {},
     "output_type": "execute_result"
    }
   ],
   "source": [
    "# Extract order number from the chats using regex\n",
    "pattern3 = 'order[^\\d]*(\\d*)'\n",
    "matches3 = re.findall(pattern3, ord2)\n",
    "matches3"
   ]
  }
 ],
 "metadata": {
  "kernelspec": {
   "display_name": "Python 3",
   "language": "python",
   "name": "python3"
  },
  "language_info": {
   "codemirror_mode": {
    "name": "ipython",
    "version": 3
   },
   "file_extension": ".py",
   "mimetype": "text/x-python",
   "name": "python",
   "nbconvert_exporter": "python",
   "pygments_lexer": "ipython3",
   "version": "3.13.0"
  }
 },
 "nbformat": 4,
 "nbformat_minor": 2
}
